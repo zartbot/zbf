{
 "cells": [
  {
   "cell_type": "code",
   "execution_count": null,
   "id": "major-adobe",
   "metadata": {},
   "outputs": [],
   "source": [
    "import pandas as pd\n",
    "import numpy as np\n",
    "import matplotlib\n",
    "import matplotlib.pyplot as plt\n",
    "%matplotlib inline  \n",
    "from IPython.core.display import display, HTML\n",
    "display(HTML(\"<style>.container { width:100% !important; }</style>\"))"
   ]
  },
  {
   "cell_type": "code",
   "execution_count": null,
   "id": "understanding-maria",
   "metadata": {},
   "outputs": [],
   "source": [
    "df = pd.read_csv(\"aaa.csv\",delimiter=\"|\",names=['src','src_country','src_as','dst','dst_country','dst_as'])"
   ]
  },
  {
   "cell_type": "code",
   "execution_count": null,
   "id": "sexual-google",
   "metadata": {},
   "outputs": [],
   "source": [
    "df"
   ]
  },
  {
   "cell_type": "code",
   "execution_count": null,
   "id": "painful-avatar",
   "metadata": {},
   "outputs": [],
   "source": [
    "country_dict = dict(zip(df['src'],df['src_country']))\n",
    "dst_country_dict = dict(zip(df['dst'],df['dst_country']))\n",
    "country_dict.update(dst_country_dict)\n",
    "\n",
    "\n",
    "as_dict = dict(zip(df['src'],df['src_as']))\n",
    "dst_as_dict = dict(zip(df['dst'],df['dst_as']))\n",
    "as_dict.update(dst_as_dict)\n"
   ]
  },
  {
   "cell_type": "code",
   "execution_count": null,
   "id": "actual-michigan",
   "metadata": {},
   "outputs": [],
   "source": [
    "import networkx as nx\n",
    "\n",
    "G = nx.Graph()\n",
    "for index, row in df.iterrows():\n",
    "    G.add_edge(row['src'],row['dst'])"
   ]
  },
  {
   "cell_type": "code",
   "execution_count": null,
   "id": "seventh-fiber",
   "metadata": {
    "scrolled": true
   },
   "outputs": [],
   "source": [
    "sorted(G.degree, key=lambda x: x[1], reverse=True)"
   ]
  },
  {
   "cell_type": "code",
   "execution_count": null,
   "id": "higher-proxy",
   "metadata": {},
   "outputs": [],
   "source": [
    "df[df['src']=='10.74.6.238'].groupby([df['dst_country']]).count().sort_values('src',ascending=False).head(20)"
   ]
  },
  {
   "cell_type": "code",
   "execution_count": null,
   "id": "continuous-frederick",
   "metadata": {},
   "outputs": [],
   "source": [
    "bfslist=list(nx.bfs_edges(G, '10.74.6.238',depth_limit=2))"
   ]
  },
  {
   "cell_type": "code",
   "execution_count": null,
   "id": "associate-lighter",
   "metadata": {},
   "outputs": [],
   "source": [
    "import json\n",
    "\n",
    "def get_geo_info(country_dict,as_dict,ip):\n",
    "    result = {}\n",
    "    result['id']= ip\n",
    "    result['country'] = country_dict[ip]\n",
    "    result['description'] = str(as_dict[ip]) +':'+ ip\n",
    "    result \n",
    "    return result\n",
    "\n",
    "def get_bfs(country_list,as_list,graph,ip,depth):\n",
    "    ip_set= set() \n",
    "    bfslist=list(nx.bfs_edges(graph, ip ,depth_limit=depth))    \n",
    "    link_list =[]\n",
    "    for edge in bfslist:\n",
    "        src = edge[0]\n",
    "        dst = edge[1]\n",
    "        link={}\n",
    "        link['source'] = src\n",
    "        link['target'] = dst\n",
    "        link_list.append(link)\n",
    "        ip_set.add(src)\n",
    "        ip_set.add(dst)\n",
    "    node_list=[]\n",
    "    for addr in iter(ip_set):\n",
    "        node = get_geo_info(country_list,as_list,addr)\n",
    "        node_list.append(node)\n",
    "    result = {}\n",
    "    result['nodes'] = node_list\n",
    "    result['links'] = link_list\n",
    "    return json.dumps(result)\n"
   ]
  },
  {
   "cell_type": "code",
   "execution_count": null,
   "id": "spoken-spanking",
   "metadata": {
    "scrolled": false
   },
   "outputs": [],
   "source": [
    "get_bfs(country_dict,as_dict,G,'8.8.8.8',1)"
   ]
  },
  {
   "cell_type": "code",
   "execution_count": null,
   "id": "super-triple",
   "metadata": {},
   "outputs": [],
   "source": [
    "cr = nx.betweenness_centrality(G)"
   ]
  },
  {
   "cell_type": "code",
   "execution_count": null,
   "id": "nutritional-discussion",
   "metadata": {},
   "outputs": [],
   "source": []
  }
 ],
 "metadata": {
  "kernelspec": {
   "display_name": "Python 3",
   "language": "python",
   "name": "python3"
  },
  "language_info": {
   "codemirror_mode": {
    "name": "ipython",
    "version": 3
   },
   "file_extension": ".py",
   "mimetype": "text/x-python",
   "name": "python",
   "nbconvert_exporter": "python",
   "pygments_lexer": "ipython3",
   "version": "3.8.10"
  }
 },
 "nbformat": 4,
 "nbformat_minor": 5
}
